{
 "cells": [
  {
   "cell_type": "code",
   "execution_count": 16,
   "metadata": {},
   "outputs": [
    {
     "name": "stdout",
     "output_type": "stream",
     "text": [
      "Transition table saved to transition_table.csv\n",
      "Generated Text: in a brave fox and looked forward to listen to the land would always ask questions about the tales they were not just any tales the years every evening creatures from the mysteries of the lessons and gentle would always ask questions about the land far away there lived a cautious deer cautious deer the tales the morals of the morals of the listeners were not just any tales the stories these stories together they were not just any tales the\n"
     ]
    }
   ],
   "source": [
    "from random import choices\n",
    "import numpy as np\n",
    "import csv\n",
    "\n",
    "class MarkovChain:\n",
    "    def __init__(self):\n",
    "        self.transition_table = {}\n",
    "\n",
    "    def add_transition(self, current_state, next_state):\n",
    "        current_state = current_state.lower()\n",
    "        next_state = next_state.lower()\n",
    "        self.transition_table.setdefault(current_state, {}).setdefault(next_state, 0)\n",
    "        self.transition_table[current_state][next_state] += 1\n",
    "\n",
    "    def generate_states(self, initial_state, num_states):\n",
    "        initial_state = initial_state.lower()\n",
    "        states_list = [initial_state]\n",
    "        for _ in range(1, num_states):\n",
    "            initial_state = self._get_next_state(initial_state)\n",
    "            states_list.append(initial_state)\n",
    "        return states_list\n",
    "\n",
    "    def _get_next_state(self, current_state):\n",
    "        possible_next_states = list(self.transition_table.get(current_state, {}).keys())\n",
    "        probabilities = list(self.transition_table.get(current_state, {}).values())\n",
    "        total = np.sum(probabilities)\n",
    "        probabilities = [prob / total for prob in probabilities]\n",
    "        return choices(possible_next_states, probabilities)[0]\n",
    "\n",
    "if __name__ == \"__main__\":\n",
    "    markov_chain = MarkovChain()\n",
    "\n",
    "    # Add transitions based on the text\n",
    "    text = \"In a land far away, there lived a wise old owl. The owl loved to share stories. These stories were not just any tales; they were reflections of the wisdom the owl had gained over the years. Every evening, creatures from all around the land would gather to listen to the owl's tales. The tales spoke of adventures, lessons, and the mysteries of the land. Among the listeners were a curious rabbit, a brave fox, and a cautious deer. The rabbit, known for its endless curiosity, would always ask questions about the tales. The fox, brave and cunning, would ponder how to use the lessons in life. The deer, cautious and gentle, would reflect on the morals of the stories. Together, they learned much from the wise old owl and looked forward to each new tale with great anticipation.\"\n",
    "\n",
    "    words = [word.strip('.,;') for word in text.lower().split()]\n",
    "\n",
    "    for i in range(len(words)-1):\n",
    "        markov_chain.add_transition(words[i], words[i+1])\n",
    "\n",
    "    markov_chain.add_transition(words[-1], words[0])\n",
    "\n",
    "    # Transition Table\n",
    "    words_list = list(set(words))\n",
    "    table = np.zeros([len(words_list), len(words_list)])\n",
    "\n",
    "    for i in range(len(words)-1):\n",
    "        table[words_list.index(words[i])][words_list.index(words[i+1])] += 1\n",
    "    table[words_list.index(words[-1])][words_list.index(words[0])] += 1\n",
    "\n",
    "    table = (table.T / table.sum(axis=1)).T  # Normalize rows\n",
    "\n",
    "    # Print Transition Table\n",
    "    csv_filename = \"transition_table.csv\"\n",
    "\n",
    "    with open(csv_filename, 'w', newline='') as csvfile:\n",
    "        csv_writer = csv.writer(csvfile)\n",
    "    \n",
    "        csv_writer.writerow([''] + words_list)  # Header row\n",
    "        for i, word in enumerate(words_list):\n",
    "            row = [word] + list(map(str, table[i]))\n",
    "            csv_writer.writerow(row)\n",
    "\n",
    "    print(f\"Transition table saved to {csv_filename}\")\n",
    "\n",
    "    # Generate a sequence of states (words)\n",
    "    initial_state = \"in\"\n",
    "    num_states = len(words_list)  # length of the generated text\n",
    "    generated_sequence = markov_chain.generate_states(initial_state, num_states)\n",
    "    print(\"Generated Text:\", \" \".join(generated_sequence))"
   ]
  }
 ],
 "metadata": {
  "kernelspec": {
   "display_name": "base",
   "language": "python",
   "name": "python3"
  },
  "language_info": {
   "codemirror_mode": {
    "name": "ipython",
    "version": 3
   },
   "file_extension": ".py",
   "mimetype": "text/x-python",
   "name": "python",
   "nbconvert_exporter": "python",
   "pygments_lexer": "ipython3",
   "version": "3.11.5"
  }
 },
 "nbformat": 4,
 "nbformat_minor": 2
}
